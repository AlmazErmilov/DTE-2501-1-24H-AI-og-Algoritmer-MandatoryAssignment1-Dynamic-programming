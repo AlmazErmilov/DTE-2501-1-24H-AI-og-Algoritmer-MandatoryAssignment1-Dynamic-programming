{
 "cells": [
  {
   "cell_type": "markdown",
   "metadata": {},
   "source": [
    "# Mandatory assignment 1 - Dynamic programming\n",
    "\n",
    "This task involves solving the problem using a dynamic programming approach. In this approach we will define a recursive relation, break problem down into subproblems and use these subproblems to build the solution. \n",
    "\n",
    "## The task description \n",
    "Given a sum s = 1 040 528 NOK and the 4 Norwegian coins with denominations {1, 5, 10, 20}, write a dynamic programming algorithm in Python using the **tabular approach** that outputs the minimum number of coins that sum up to s.\n",
    "\n",
    "<img src=\"image.png\" alt=\"Norwegian coins: Adapted from Like_the_Grand_Canyon under CC BY-NC 2.0\" width=\"700\" height=\"300\">\n",
    "\n",
    "Norwegian coins: Adapted from Like_the_Grand_Canyon under CC BY-NC 2.0\n",
    "\n",
    "1. Identify the subproblems and write the recurrent relation \n",
    "2. Write the program that solves the problem described above. Your program should print out the result."
   ]
  },
  {
   "cell_type": "markdown",
   "metadata": {},
   "source": [
    "## Problem description:\n",
    "- Input is 'sum' = 1,040,528 NOK and available coins [1, 5, 10, 20]\n",
    "- Output: the minimum number of coins required to make 'sum'\n"
   ]
  },
  {
   "cell_type": "code",
   "execution_count": 28,
   "metadata": {},
   "outputs": [
    {
     "name": "stdout",
     "output_type": "stream",
     "text": [
      "Our initial sum is 1040528 NOK and the coins we have [1, 5, 10, 20]\n"
     ]
    }
   ],
   "source": [
    "sum: int = 1040528 # NOK\n",
    "avaliable_coins: list = [1, 5, 10, 20] # our coins irl, picture above\n",
    "print(f\"Our initial sum is {sum} NOK and the coins we have {avaliable_coins}\")\n"
   ]
  },
  {
   "cell_type": "markdown",
   "metadata": {},
   "source": [
    "### Greedy approach\n",
    "\n",
    "First can we think about greedy approach that feels direct and pretty intuitive where we take the high value coins first\n",
    "If we take 40 NOK and our norwegian coins it will be 20 NOK coin 2 times and we get 2 coins total using only one \n"
   ]
  },
  {
   "cell_type": "code",
   "execution_count": 30,
   "metadata": {},
   "outputs": [
    {
     "name": "stdout",
     "output_type": "stream",
     "text": [
      "[20, 10, 5, 1]\n"
     ]
    }
   ],
   "source": [
    "avaliable_coins.sort(reverse=True) # we sort coins from highest to lowest\n",
    "print(avaliable_coins)\n"
   ]
  },
  {
   "cell_type": "code",
   "execution_count": 31,
   "metadata": {},
   "outputs": [
    {
     "name": "stdout",
     "output_type": "stream",
     "text": [
      "0\n",
      "{20: 0, 10: 0, 5: 0, 1: 0}\n"
     ]
    }
   ],
   "source": [
    "total_coins = 0 # initializing of total number of coins used\n",
    "coin_counts = {coin: 0 for coin in avaliable_coins} # dict to count how many and what kind of coins we use\n",
    "print(total_coins, coin_counts, sep='\\n')\n"
   ]
  },
  {
   "cell_type": "code",
   "execution_count": 32,
   "metadata": {},
   "outputs": [
    {
     "name": "stdout",
     "output_type": "stream",
     "text": [
      "Our total coins counter 52030, coins used: {20: 52026, 10: 0, 5: 1, 1: 3}\n"
     ]
    }
   ],
   "source": [
    "# iterating through avaliable_coins, from highest to lowest\n",
    "for coin in avaliable_coins:\n",
    "        # we do this while the coin's value is less than or equal to the remaining sum\n",
    "        while sum >= coin:\n",
    "            # subtracting the coin value from the remaining sum\n",
    "            sum -= coin\n",
    "            # counter for coins used\n",
    "            total_coins += 1\n",
    "            # upd coin_counts dict\n",
    "            coin_counts[coin] += 1\n",
    "\n",
    "print(f\"Our total coins counter {total_coins}, coins used: {coin_counts}\")"
   ]
  },
  {
   "cell_type": "markdown",
   "metadata": {},
   "source": [
    "Coin based value per unit is pretty simple in our case, from the highest value to the lowest\n",
    "- Coin 20 NOK has 20.0 value/unit (20.0 NOK per 1 coin)\n",
    "- Coin 10 NOK: 10.0 value/unit\n",
    "- Coin 5 NOK: 5.0 value/unit\n",
    "- Coin 1 NOK: 1.0 value/unit"
   ]
  },
  {
   "cell_type": "markdown",
   "metadata": {},
   "source": [
    "Ok, this greedy approach chooses the highest value coin possible, which aligns with using the coin with the highest value/unit ratio. \n",
    "For the actual norwegian coin system this approach gives the optimal solution, but this could not work for all possible coin systems, so let’s compare it to a dynamic programming approach"
   ]
  },
  {
   "cell_type": "markdown",
   "metadata": {},
   "source": [
    "For example for 31 NOK this greedy approach gives us \n",
    "- 20 NOK coin first, then we have 11 NOK left\n",
    "- 10 NOK coin after 2nd iteration in the loop, then we have 1 NOK left \n",
    "- 1 NOK coing after 3rd iteration, and we have 0 NOK left\n",
    "  \n",
    "We used ***3 coins total*** *(also 3 coins of different value)* and our coin_counts dict would look like something this\n",
    "- *1 coin of 20 NOK*\n",
    "- *1 coin of 10 NOK*\n",
    "- *1 coin of 1 NOK*"
   ]
  },
  {
   "cell_type": "markdown",
   "metadata": {},
   "source": [
    "## Dynamic programming approach\n",
    "\t\n",
    "#### Subproblems\n",
    "The problem can be broken down into subproblems where for any amount i from 0 to 'sum' \n",
    "we calculate the minimum number of coins required to make that amount.\n",
    "\n",
    "#### Recurrence \n",
    "List dp[i] will represent the minimum number of coins required to make the amount i. For each amount i, the recurrence relation is:"
   ]
  },
  {
   "cell_type": "code",
   "execution_count": 54,
   "metadata": {},
   "outputs": [
    {
     "name": "stdout",
     "output_type": "stream",
     "text": [
      "Our dp table is an array [0, inf, inf, inf, inf, inf, inf, inf, inf, inf, inf, inf, inf, inf, inf, inf, inf, inf, inf, inf, inf, inf, inf, inf, inf, inf, inf, inf, inf, inf, inf, inf] \n",
      "\n",
      "with size of 32 values in it\n"
     ]
    }
   ],
   "source": [
    "sum_31_NOK: int = 31 # NOK\n",
    "# we initialize dp table list (array); float('inf') to assume that all sums are unreachable first\n",
    "dp: list = [float('inf')] * (sum_31_NOK + 1) # size (sum + 1) to include sums from 0 to sum\n",
    "\n",
    "# our base case because to make 0 NOK we need 0 coins\n",
    "dp[0] = 0\n",
    "\n",
    "print(f\"Our dp table is an array {dp} \\n\\nwith size of {len(dp)} values in it\")"
   ]
  },
  {
   "cell_type": "code",
   "execution_count": 64,
   "metadata": {},
   "outputs": [
    {
     "name": "stdout",
     "output_type": "stream",
     "text": [
      "our dp table list after all the calculations is \n",
      "[0, 1, 2, 3, 4, 1, 2, 3, 4, 5, 1, 2, 3, 4, 5, 2, 3, 4, 5, 6, 1, 2, 3, 4, 5, 2, 3, 4, 5, 6, 2, 3]\n",
      "\n",
      "how many coins we need to get 31 NOK using dp table: 3\n",
      "\n",
      "how many coins we need to get 1 NOK using dp table: 1\n",
      "how many coins we need to get 5 NOK using dp table: 1\n",
      "how many coins we need to get 10 NOK using dp table: 1\n",
      "how many coins we need to get 20 NOK using dp table: 1\n"
     ]
    }
   ],
   "source": [
    "# we loop over each possible sum from 1 to target_sum\n",
    "for i in range(1, sum_31_NOK + 1):\n",
    "    # for each coin we check if it can contribute to the sum that is 'i'\n",
    "    for coin in avaliable_coins:\n",
    "        if i - coin >= 0:  # we consider only when (i - coin) is non-negative\n",
    "            # here is our recurrence relation (sequence of values in terms of earlier values) \n",
    "            # this helps us to backtrack then if I understood it right\n",
    "            dp[i] = min(dp[i], dp[i - coin] + 1) # we update dp[i] if the current coin gives a smaller number of coins\n",
    "\n",
    "print(f\"our dp table list after all the calculations is \\n{dp}\")\n",
    "print(f\"\\nhow many coins we need to get 31 NOK using dp table: {dp[sum_31_NOK]}\")\n",
    "print(f\"\\nhow many coins we need to get 1 NOK using dp table: {dp[1]}\")\n",
    "print(f\"how many coins we need to get 5 NOK using dp table: {dp[5]}\")\n",
    "print(f\"how many coins we need to get 10 NOK using dp table: {dp[10]}\")\n",
    "print(f\"how many coins we need to get 20 NOK using dp table: {dp[20]}\")"
   ]
  },
  {
   "cell_type": "markdown",
   "metadata": {},
   "source": [
    "We can \"backtrack\" the logic now with target sum of 31 NOK in our little test example <br>\n",
    "Our sequence of values in terms of earlier values depends on this line in the code:"
   ]
  },
  {
   "cell_type": "code",
   "execution_count": null,
   "metadata": {},
   "outputs": [],
   "source": [
    "dp[i] = min(dp[i], dp[i - coin] + 1)"
   ]
  },
  {
   "cell_type": "markdown",
   "metadata": {},
   "source": [
    "if we want to look at dp[1], dp[2], dp[10], dp[20] we will get 1 coin for every of them <br>\n",
    "for example if we take 1 NOK coin, we put it inside the line that determines the sequence: <br>\n",
    "```python\n",
    "dp[1] = min(dp[1], dp[1 - coin] + 1) = min(1, dp[0] + 1) = min(1, 0 + 1) = 1\n",
    "```"
   ]
  },
  {
   "cell_type": "markdown",
   "metadata": {},
   "source": [
    "if we take 5 NOK coin as a target sum <br>\n",
    "```python\n",
    "dp[5] = min(dp[5], dp[5 - 5] + 1) = min(1, dp[0] + 1) = min(1, 0 + 1) = 1\n",
    "```\n",
    "(we can also use five of 1 NOK coins, but minumum will be one of 5 NOK coin)"
   ]
  },
  {
   "cell_type": "code",
   "execution_count": 68,
   "metadata": {},
   "outputs": [
    {
     "name": "stdout",
     "output_type": "stream",
     "text": [
      "our dp table list after all the calculations is \n",
      "[0, 1, 2, 3, 4, 1, 2, 3, 4, 5, 1, 2, 3, 4, 5, 2, 3, 4, 5, 6, 1, 2, 3, 4, 5, 2, 3, 4, 5, 6, 2, 3]\n",
      "\n",
      "how many coins we need to get 31 NOK using dp table: 3\n",
      "how many coins we need to get 1 NOK using dp table: 1\n",
      "how many coins we need to get 5 NOK using dp table: 1\n",
      "how many coins we need to get 10 NOK using dp table: 1\n",
      "how many coins we need to get 20 NOK using dp table: 1\n"
     ]
    }
   ],
   "source": [
    "print(f\"our dp table list after all the calculations is \\n{dp}\")\n",
    "print(f\"\\nhow many coins we need to get 31 NOK using dp table: {dp[sum_31_NOK]}\")\n",
    "print(f\"how many coins we need to get 1 NOK using dp table: {dp[1]}\")\n",
    "print(f\"how many coins we need to get 5 NOK using dp table: {dp[5]}\")\n",
    "print(f\"how many coins we need to get 10 NOK using dp table: {dp[10]}\")\n",
    "print(f\"how many coins we need to get 20 NOK using dp table: {dp[20]}\")"
   ]
  },
  {
   "cell_type": "markdown",
   "metadata": {},
   "source": [
    "Let's backtrack now for our target sum of 31 NOK using our recurence relation:\n",
    "```python \n",
    "dp[i] = min(dp[i], dp[i - coin] + 1)\n",
    "```\n",
    "\n",
    "We know from dp table that ```dp[31] = 3 ``` which means that we have to use 3 coins<br>\n",
    "Let's find which coins was used since ```dp[31] = dp[31 - coin] + 1``` and available coins are [1, 5, 10, 20]\n",
    "\n",
    "- let's use 20 NOK coin as 'coin' <br>\n",
    "  ```dp[31] = dp[31 - 20] + 1 = dp[11] + 1 = 2 + 1 = 3``` which leads to the correct total and we remember that we used one of 20 NOK value coin<br>\n",
    "- We are moving now to ```dp[11]```, in the dp table  ```dp[11] = 2 ```, we need 2 coins to get 11 NOK, so let's check the coin 10 NOK<br>\n",
    "  ```dp[11] = dp[11 - 10] + 1 = dp[1] + 1 = 1 + 1 = 2``` and this leads to the correct total\n",
    "- We are moving now to ```dp[1]``` which is ```dp[1] = 1 ``` from dp table <br>\n",
    "  ```dp[11] = dp[1 - 1] + 1 = dp[0] + 1 = 0 + 1 = 1``` and this leads to the correct total\n",
    "\n",
    "So, coins used:\n",
    "- one of 20 NOK coin\n",
    "- one of 10 NOK coin\n",
    "- one of 1 NOK coin\n",
    "\n",
    "```python \n",
    "dp[31] = 3  ->  subtracting 20 NOK  -> dp[11] = 2\n",
    "dp[11] = 2  ->  subtracting 10 NOK  -> dp[1] = 1\n",
    "dp[1] = 1   ->  subtracting 1 NOK   -> dp[0] = 0 (our base case)\n",
    "```"
   ]
  },
  {
   "cell_type": "markdown",
   "metadata": {},
   "source": [
    "## Final implementation of the solution as a python fun"
   ]
  },
  {
   "cell_type": "code",
   "execution_count": 72,
   "metadata": {},
   "outputs": [
    {
     "name": "stdout",
     "output_type": "stream",
     "text": [
      "Minimum number of coins to make 1040528 NOK is 52030\n"
     ]
    }
   ],
   "source": [
    "def min_coins_using_dp_table(sum_nok: int):\n",
    "    \"\"\"\n",
    "    This function calculates the minimum number of coins needed to make the sum 'sum_nok' using norwegian coins\n",
    "    \"\"\"\n",
    "    available_coins: list = [1, 5, 10, 20]  # our coins irl, picture above\n",
    "    # we initialize dp table list (array); float('inf') to assume that all sums are unreachable first\n",
    "    dp: list = [float('inf')] * (sum_nok + 1)  # size (sum + 1) to include sums from 0 to sum\n",
    "\n",
    "    # our base case because to make 0 NOK we need 0 coins\n",
    "    dp[0] = 0\n",
    "\n",
    "    # forming DP table for each sum from 1 to sum_nok\n",
    "    for i in range(1, sum_nok + 1):\n",
    "        # for each coin we check if it can contribute to the sum that is 'i'\n",
    "        for coin in available_coins:\n",
    "            if i - coin >= 0:  # we consider only when (i - coin) is non-negative\n",
    "                # here is our recurrence relation (sequence of values in terms of earlier values)\n",
    "                # this helps us to backtrack then if I understood it right\n",
    "                dp[i] = min(dp[i], dp[i - coin] + 1)  # we update dp[i] if the current coin gives a smaller number of coins\n",
    "\n",
    "    # returns minimum number of coins for sum_nok, or -1 if not possible\n",
    "    return dp[sum_nok] if dp[sum_nok] != float('inf') else -1\n",
    "\n",
    "# actual usage\n",
    "sum_nok = 1040528 # NOK\n",
    "result = min_coins_using_dp_table(sum_nok)\n",
    "print(f\"Minimum number of coins to make {sum_nok} NOK is {result}\")\n"
   ]
  }
 ],
 "metadata": {
  "kernelspec": {
   "display_name": "Python 3",
   "language": "python",
   "name": "python3"
  },
  "language_info": {
   "codemirror_mode": {
    "name": "ipython",
    "version": 3
   },
   "file_extension": ".py",
   "mimetype": "text/x-python",
   "name": "python",
   "nbconvert_exporter": "python",
   "pygments_lexer": "ipython3",
   "version": "3.11.7"
  }
 },
 "nbformat": 4,
 "nbformat_minor": 2
}
